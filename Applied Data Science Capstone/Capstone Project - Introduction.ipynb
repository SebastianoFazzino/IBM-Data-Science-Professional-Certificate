{
 "cells": [
  {
   "cell_type": "markdown",
   "metadata": {},
   "source": [
    "<hr><h1 align='center'>IBM Data Science Professional Certificate</h1><h2 align='center'>Capstone Project: The Battle of Neighborhoods</h2><br><hr>"
   ]
  },
  {
   "cell_type": "markdown",
   "metadata": {},
   "source": [
    "<h3 align='center'>Author: Sebastiano Fazzino</h3><br><hr><br>"
   ]
  },
  {
   "cell_type": "markdown",
   "metadata": {},
   "source": [
    "<h2 align='center'>Introduction</h2>"
   ]
  },
  {
   "cell_type": "markdown",
   "metadata": {},
   "source": [
    "My name is Sebastiano, I'm Italian and I'm 28. I like calling myself a 'World Citizen', as I've been living in four different countries so far, and I'm about to move to a fifth one. \n",
    "I've mostly been working in the customer service industry but I've always been interested in IT, I'm actually an entry level self-taught progrmmer and my goal for late 2020/beginning of 2021 is to start working in the IT industry at a professional level.\n",
    "\n",
    "Althought data scientists' work is usually focused on finding solutions to someone else's problems, in this project I'll mostly focus on myself and I'll try to give a proper answer to my question. As I mentioned before, I'm about to move in another country, and this will be Estonia, to be more specific I'll move to Tallinn which is the capital of Estonia.<br>\n",
    "I'm not really familiar with Estonia, I just know that it's a technology-oriented country, it's very green and it's one of Europe's least crowded countries.<br><br>\n",
    "So in this project I'll try to give an answer to a question I've been recently wondering:\n",
    "\n",
    "<h3 align='center'>Where in Tallinn should I live?</h3>\n",
    "\n"
   ]
  },
  {
   "cell_type": "markdown",
   "metadata": {},
   "source": [
    "<br>To answer this question I'll be analyzing different neighboorhoods in Tallinn and I'll pick one of them according to different parameters:\n",
    "<ul><li>distance from the city center;</li>\n",
    "    <li>public transportantions;</li>\n",
    "    <li>shops and facilities in the neighborhood(shopping malls, gym, cafes, restaurants);</li>\n",
    "    <li>number of people living in the neighborhood (I'd like it to be a tranquil neighborhood with no much traffic!)</li>\n",
    "</ul>"
   ]
  },
  {
   "cell_type": "markdown",
   "metadata": {},
   "source": [
    "<br><h2 align='center'>Hands on the project:</h2>"
   ]
  },
  {
   "cell_type": "markdown",
   "metadata": {},
   "source": [
    "In order to find an answer to my question I'll be using:\n",
    "<br><h3>Foursquare dataset</h3>\n",
    "To retrieve information about venues and point of interest in the different neighborhoods;\n",
    "<br><h3>Wikipedia</h3>\n",
    "From this webpage https://en.wikipedia.org/wiki/Tallinn, using <strong>'Beautiful Soup'</strong> Python library I'll extract information about Tallinn's neighborhoods I need for my project, such as population density or climate data.\n",
    "<br><h3>Google Maps</h3>\n",
    "To help me finding the coordinates of every single neighborhood, luckily Tallinn only has 8 neighborhoods, so I've decided to include two suburbs which are relatively close to the city center.\n",
    "<br><h3>Peatus.ee</h3>\n",
    "Tallinn's public transportation website, I'll mostly focus on these two pages: http://vana.peatus.ee/#city;tallinna-linn;trol/eng and http://vana.peatus.ee/#city;tallinna-linn;tram/eng, containing the timetables for trams and trolleybusses in Tallinn which cover a good portion of the the city.\n",
    "<br><h3>Clustering and Regression</h3>\n",
    "To facilitate my work I might cluster neighborhoods according to their similarity and I could use regression to determine the future population density of those neighborhoods."
   ]
  }
 ],
 "metadata": {
  "kernelspec": {
   "display_name": "Python",
   "language": "python",
   "name": "conda-env-python-py"
  },
  "language_info": {
   "codemirror_mode": {
    "name": "ipython",
    "version": 3
   },
   "file_extension": ".py",
   "mimetype": "text/x-python",
   "name": "python",
   "nbconvert_exporter": "python",
   "pygments_lexer": "ipython3",
   "version": "3.6.11"
  }
 },
 "nbformat": 4,
 "nbformat_minor": 4
}
